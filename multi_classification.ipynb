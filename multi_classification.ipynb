{
 "cells": [
  {
   "cell_type": "markdown",
   "metadata": {},
   "source": [
    "# 多クラス分類の例題"
   ]
  },
  {
   "cell_type": "code",
   "execution_count": 1,
   "metadata": {},
   "outputs": [
    {
     "name": "stdout",
     "output_type": "stream",
     "text": [
      "tensorflow version : 2.3.1\n"
     ]
    }
   ],
   "source": [
    "%matplotlib inline\n",
    "\n",
    "import numpy as np\n",
    "import matplotlib.pyplot as plt\n",
    "\n",
    "import tensorflow as tf\n",
    "from tensorflow.keras import layers, models, initializers\n",
    "from tensorflow.keras.utils import to_categorical\n",
    "from tensorflow.keras.datasets import reuters\n",
    "\n",
    "\n",
    "np.random.seed(20201231)\n",
    "tf.random.set_seed(20201231)\n",
    "\n",
    "print(\"tensorflow version : \" + tf.__version__)"
   ]
  },
  {
   "cell_type": "markdown",
   "metadata": {},
   "source": [
    "# Load dataset"
   ]
  },
  {
   "cell_type": "code",
   "execution_count": 2,
   "metadata": {},
   "outputs": [
    {
     "name": "stdout",
     "output_type": "stream",
     "text": [
      "x_train.shape:  (6982,)\n",
      "y_train.shape:  (6982,)\n",
      "x_val.shape:  (2000,)\n",
      "y_val.shape:  (2000,)\n",
      "x_test.shape:  (2246,)\n",
      "y_test.shape:  (2246,)\n",
      "\n",
      "x_train\n",
      "[list([1, 53, 965, 26, 14, 462, 26, 39, 2958, 70, 11, 14, 5149, 70, 11, 86, 12, 61, 35, 14, 12, 59, 35, 180, 183, 4002, 70, 11, 14, 3809, 70, 11, 17, 12])\n",
      " list([1, 94, 156, 48, 153, 53, 46, 312, 26, 14, 46, 160, 26, 39, 46, 957, 5139, 14, 74, 2115, 5715, 86, 4264, 3678, 14, 5790, 5942, 17, 12])\n",
      " list([1, 9314, 705, 71, 9, 697, 3086, 3575, 705, 149, 8, 77, 2, 524, 1505, 122, 28, 125, 2279, 324, 2, 1562, 340, 1280, 7, 4, 2, 92, 10, 883, 2187, 4, 449, 77, 8, 122, 34, 4362, 21, 518, 5, 10, 1417, 3948, 9, 2720, 5, 1982, 742, 77, 349, 400, 404, 13, 4, 780, 9, 2117, 41, 135, 360, 19, 11, 15, 348, 109, 11, 15, 5, 885, 244, 4, 3482, 883, 1821, 340, 122, 5, 648, 639, 1069, 10, 29, 28, 10, 419, 5, 2084, 342, 15, 10, 434, 1307, 77, 8, 9314, 9, 697, 3086, 3575, 8, 4, 1126, 41, 1146, 10, 279, 20, 92, 131, 573, 101, 5, 810, 28, 10, 340, 96, 5, 628, 37, 38, 15, 42, 1380, 77, 8, 77, 41, 780, 3125, 18, 82, 5, 2861, 9, 4297, 2, 282, 5, 3837, 1162, 3962, 70, 425, 1380, 340, 90, 1307, 28, 10, 3599, 101, 5, 1965, 18, 82, 13, 10, 780, 940, 5, 47, 147, 206, 477, 282, 5, 388, 18, 82, 3962, 70, 546, 1380, 340, 90, 1307, 28, 4, 2001, 2345, 41, 1940, 780, 940, 27, 10, 29, 31, 2548, 917, 13, 400, 5, 226, 3837, 1162, 282, 28, 4, 1280, 77, 8, 17, 12])\n",
      " ...\n",
      " list([1, 141, 3890, 387, 81, 8, 16, 1629, 10, 340, 1241, 850, 31, 56, 3890, 691, 9, 1241, 71, 9, 5985, 2, 2, 699, 2, 2, 2, 699, 244, 5945, 4, 49, 8, 4, 656, 850, 33, 2993, 9, 2139, 340, 3371, 1493, 9, 2, 22, 2, 1094, 687, 83, 35, 15, 257, 6, 57, 9190, 7, 4, 5956, 654, 5, 2, 6191, 1371, 4, 49, 8, 16, 369, 646, 6, 1076, 7, 124, 407, 17, 12])\n",
      " list([1, 53, 46, 957, 26, 14, 74, 132, 26, 39, 46, 258, 3614, 18, 14, 74, 134, 5131, 18, 88, 2321, 72, 11, 14, 1842, 32, 11, 123, 383, 89, 39, 46, 235, 10, 864, 728, 5, 258, 44, 11, 15, 22, 753, 9, 42, 92, 131, 728, 5, 69, 312, 11, 15, 22, 222, 2, 3237, 383, 48, 39, 74, 235, 10, 864, 276, 5, 61, 32, 11, 15, 21, 4, 211, 5, 126, 1072, 42, 92, 131, 46, 19, 352, 11, 15, 22, 710, 220, 9, 42, 92, 131, 276, 5, 59, 61, 11, 15, 22, 10, 455, 7, 1172, 137, 336, 1325, 6, 1532, 142, 971, 6463, 43, 359, 5, 4, 326, 753, 364, 17, 12])\n",
      " list([1, 227, 2406, 91, 2, 125, 2855, 21, 4, 3976, 76, 7, 4, 757, 481, 3976, 790, 5259, 5654, 9, 111, 149, 8, 7, 10, 76, 223, 51, 4, 417, 8, 1047, 91, 6917, 1688, 340, 7, 194, 9411, 6, 1894, 21, 127, 2151, 2394, 1456, 6, 3034, 4, 329, 433, 7, 65, 87, 1127, 10, 8219, 1475, 290, 9, 21, 567, 16, 1926, 24, 4, 76, 209, 30, 4033, 6655, 5654, 8, 4, 60, 8, 4, 966, 308, 40, 2575, 129, 2, 295, 277, 1071, 9, 24, 286, 2114, 234, 222, 9, 4, 906, 3994, 8519, 114, 5758, 1752, 7, 4, 113, 17, 12])]\n",
      "\n",
      "y_train\n",
      "[ 3  3  3 ... 25  3 25]\n"
     ]
    }
   ],
   "source": [
    "(x_train, y_train), (x_test, y_test) = reuters.load_data(num_words=10000)\n",
    "#評価データの作成\n",
    "x_val = x_train[:2000]\n",
    "x_train = x_train[2000:]\n",
    "y_val = y_train[:2000]\n",
    "y_train = y_train[2000:]\n",
    "print('x_train.shape: ', x_train.shape)\n",
    "print('y_train.shape: ', y_train.shape)\n",
    "print('x_val.shape: ', x_val.shape)\n",
    "print('y_val.shape: ', y_val.shape)\n",
    "print('x_test.shape: ', x_test.shape)\n",
    "print('y_test.shape: ', y_test.shape)\n",
    "\n",
    "print('\\nx_train')\n",
    "print(x_train)\n",
    "\n",
    "print('\\ny_train')\n",
    "print(y_train)"
   ]
  },
  {
   "cell_type": "code",
   "execution_count": 3,
   "metadata": {},
   "outputs": [
    {
     "name": "stdout",
     "output_type": "stream",
     "text": [
      "\n",
      "データセット0番目の内容を文章に戻してみる\n",
      "? shr 78 cts vs 86 cts net 265 0 mln vs 283 0 mln revs 3 7 billion vs 3 6 billion avg shrs 329 0 mln vs 319 0 mln reuter 3\n"
     ]
    }
   ],
   "source": [
    "#データセット0番目の内容を文章に戻してみる\n",
    "print('\\nデータセット0番目の内容を文章に戻してみる')\n",
    "word_index = reuters.get_word_index()\n",
    "reverse_word_index = dict([(value, key) for (key, value) in word_index.items()])\n",
    "#0はパディング、1はシーケンスの開始、2が不明として予約されているため除外する\n",
    "decoded_newswire = ' '.join([reverse_word_index.get(i - 3, '?') for i in x_train[0]])\n",
    "print(decoded_newswire)"
   ]
  },
  {
   "cell_type": "markdown",
   "metadata": {},
   "source": [
    "# Modify input data"
   ]
  },
  {
   "cell_type": "code",
   "execution_count": 4,
   "metadata": {},
   "outputs": [
    {
     "name": "stdout",
     "output_type": "stream",
     "text": [
      "\n",
      "x_train\n",
      "[[0. 1. 0. ... 0. 0. 0.]\n",
      " [0. 1. 0. ... 0. 0. 0.]\n",
      " [0. 1. 1. ... 0. 0. 0.]\n",
      " ...\n",
      " [0. 1. 1. ... 0. 0. 0.]\n",
      " [0. 1. 1. ... 0. 0. 0.]\n",
      " [0. 1. 1. ... 0. 0. 0.]]\n",
      "\n",
      "x_test\n",
      "[[0. 1. 1. ... 0. 0. 0.]\n",
      " [0. 1. 1. ... 0. 0. 0.]\n",
      " [0. 1. 1. ... 0. 0. 0.]\n",
      " ...\n",
      " [0. 1. 0. ... 0. 0. 0.]\n",
      " [0. 1. 1. ... 0. 0. 0.]\n",
      " [0. 1. 1. ... 0. 0. 0.]]\n",
      "\n",
      "y_train\n",
      "[[0. 0. 0. ... 0. 0. 0.]\n",
      " [0. 0. 0. ... 0. 0. 0.]\n",
      " [0. 0. 0. ... 0. 0. 0.]\n",
      " ...\n",
      " [0. 0. 0. ... 0. 0. 0.]\n",
      " [0. 0. 0. ... 0. 0. 0.]\n",
      " [0. 0. 0. ... 0. 0. 0.]]\n"
     ]
    }
   ],
   "source": [
    "def vectorize_sequences(sequences, dimension=10000):\n",
    "    results = np.zeros((len(sequences), dimension))\n",
    "    for i, sequence in enumerate(sequences):\n",
    "        results[i, sequence] = 1.\n",
    "    return results\n",
    "\n",
    "x_train = vectorize_sequences(x_train)\n",
    "x_val = vectorize_sequences(x_val)\n",
    "x_test = vectorize_sequences(x_test)\n",
    "print('\\nx_train')\n",
    "print(x_train)\n",
    "print('\\nx_test')\n",
    "print(x_test)\n",
    "\n",
    "#labelは46種類あるため、要素46のOneHotに変換する\n",
    "y_train = to_categorical(y_train, 46)\n",
    "y_val = to_categorical(y_val, 46)\n",
    "y_test = to_categorical(y_test, 46)\n",
    "print('\\ny_train')\n",
    "print(y_train)"
   ]
  },
  {
   "cell_type": "markdown",
   "metadata": {},
   "source": [
    "# Create deep learning layer"
   ]
  },
  {
   "cell_type": "code",
   "execution_count": 5,
   "metadata": {},
   "outputs": [
    {
     "name": "stdout",
     "output_type": "stream",
     "text": [
      "Model: \"sequential\"\n",
      "_________________________________________________________________\n",
      "Layer (type)                 Output Shape              Param #   \n",
      "=================================================================\n",
      "dense (Dense)                (None, 64)                640064    \n",
      "_________________________________________________________________\n",
      "dense_1 (Dense)              (None, 64)                4160      \n",
      "_________________________________________________________________\n",
      "dense_2 (Dense)              (None, 46)                2990      \n",
      "=================================================================\n",
      "Total params: 647,214\n",
      "Trainable params: 647,214\n",
      "Non-trainable params: 0\n",
      "_________________________________________________________________\n"
     ]
    }
   ],
   "source": [
    "model = models.Sequential()\n",
    "model.add(layers.Dense(64, activation='relu', input_shape=(10000,)))\n",
    "model.add(layers.Dense(64, activation='relu'))\n",
    "model.add(layers.Dense(46, activation='sigmoid'))\n",
    "model.summary()\n",
    "\n",
    "model.compile(optimizer='rmsprop',\n",
    "              loss='categorical_crossentropy',\n",
    "              metrics=['accuracy'])"
   ]
  },
  {
   "cell_type": "markdown",
   "metadata": {},
   "source": [
    "# Trainning"
   ]
  },
  {
   "cell_type": "code",
   "execution_count": 6,
   "metadata": {},
   "outputs": [
    {
     "name": "stdout",
     "output_type": "stream",
     "text": [
      "Epoch 1/5\n",
      "14/14 [==============================] - 0s 34ms/step - loss: 3.4374 - accuracy: 0.4400 - val_loss: 3.0413 - val_accuracy: 0.5060\n",
      "Epoch 2/5\n",
      "14/14 [==============================] - 0s 17ms/step - loss: 2.6877 - accuracy: 0.5096 - val_loss: 2.3814 - val_accuracy: 0.4860\n",
      "Epoch 3/5\n",
      "14/14 [==============================] - 0s 17ms/step - loss: 2.0072 - accuracy: 0.5130 - val_loss: 1.9396 - val_accuracy: 0.5130\n",
      "Epoch 4/5\n",
      "14/14 [==============================] - 0s 18ms/step - loss: 1.4940 - accuracy: 0.6295 - val_loss: 1.4489 - val_accuracy: 0.6720\n",
      "Epoch 5/5\n",
      "14/14 [==============================] - 0s 17ms/step - loss: 0.9318 - accuracy: 0.8157 - val_loss: 1.1979 - val_accuracy: 0.7475\n"
     ]
    },
    {
     "data": {
      "image/png": "[encoded data removed]",
      "text/plain": [
       "<Figure size 432x288 with 1 Axes>"
      ]
     },
     "metadata": {
      "needs_background": "light"
     },
     "output_type": "display_data"
    },
    {
     "data": {
      "image/png": "[encoded data removed]",
      "text/plain": [
       "<Figure size 432x288 with 1 Axes>"
      ]
     },
     "metadata": {
      "needs_background": "light"
     },
     "output_type": "display_data"
    }
   ],
   "source": [
    "training = model.fit(x_train, y_train,\n",
    "          validation_data=(x_val, y_val),\n",
    "          batch_size=512,\n",
    "          epochs=5)\n",
    "\n",
    "plt.plot(training.history['accuracy'])\n",
    "plt.plot(training.history['val_accuracy'])\n",
    "plt.title('model accuracy')\n",
    "plt.ylabel('accuracy')\n",
    "plt.xlabel('epoch')\n",
    "plt.legend(['train', 'test'], loc='upper left')\n",
    "plt.show()\n",
    "#loss\n",
    "plt.plot(training.history['loss'])\n",
    "plt.plot(training.history['val_loss'])\n",
    "plt.title('model loss')\n",
    "plt.ylabel('loss')\n",
    "plt.xlabel('epoch')\n",
    "plt.legend(['train', 'test'], loc='upper left')\n",
    "plt.show()"
   ]
  },
  {
   "cell_type": "markdown",
   "metadata": {},
   "source": [
    "# Evaluate"
   ]
  },
  {
   "cell_type": "code",
   "execution_count": 7,
   "metadata": {},
   "outputs": [
    {
     "name": "stdout",
     "output_type": "stream",
     "text": [
      "71/71 [==============================] - 0s 3ms/step - loss: 1.1905 - accuracy: 0.7382\n"
     ]
    }
   ],
   "source": [
    "results = model.evaluate(x_test, y_test)"
   ]
  },
  {
   "cell_type": "markdown",
   "metadata": {},
   "source": [
    "# Save the model"
   ]
  },
  {
   "cell_type": "code",
   "execution_count": 8,
   "metadata": {},
   "outputs": [
    {
     "name": "stdout",
     "output_type": "stream",
     "text": [
      "WARNING:tensorflow:From c:\\users\\naolu\\documents\\github\\tensorflow_samples\\.venv\\lib\\site-packages\\tensorflow\\python\\training\\tracking\\tracking.py:111: Model.state_updates (from tensorflow.python.keras.engine.training) is deprecated and will be removed in a future version.\n",
      "Instructions for updating:\n",
      "This property should not be used in TensorFlow 2.0, as updates are applied automatically.\n",
      "WARNING:tensorflow:From c:\\users\\naolu\\documents\\github\\tensorflow_samples\\.venv\\lib\\site-packages\\tensorflow\\python\\training\\tracking\\tracking.py:111: Layer.updates (from tensorflow.python.keras.engine.base_layer) is deprecated and will be removed in a future version.\n",
      "Instructions for updating:\n",
      "This property should not be used in TensorFlow 2.0, as updates are applied automatically.\n",
      "INFO:tensorflow:Assets written to: models\\multi_class_pb\\assets\n",
      "Tensor(\"dense_input:0\", shape=(None, 10000), dtype=float32)\n",
      "Tensor(\"dense_2/Sigmoid:0\", shape=(None, 46), dtype=float32)\n"
     ]
    }
   ],
   "source": [
    "model.save('models\\\\multi_class.h5')\n",
    "model.save('models\\\\multi_class_pb', save_format=\"tf\")\n",
    "\n",
    "print(model.input)\n",
    "print(model.output)"
   ]
  },
  {
   "cell_type": "markdown",
   "metadata": {},
   "source": [
    "# Predict"
   ]
  },
  {
   "cell_type": "code",
   "execution_count": 9,
   "metadata": {},
   "outputs": [
    {
     "name": "stdout",
     "output_type": "stream",
     "text": [
      "3\n"
     ]
    }
   ],
   "source": [
    "model = models.load_model('models\\\\multi_class.h5')\n",
    "prediction = model.predict(x_test)\n",
    "print(np.argmax(prediction[0]))"
   ]
  },
  {
   "cell_type": "code",
   "execution_count": null,
   "metadata": {},
   "outputs": [],
   "source": []
  }
 ],
 "metadata": {
  "kernelspec": {
   "display_name": "Python 3",
   "language": "python",
   "name": "python3"
  },
  "language_info": {
   "codemirror_mode": {
    "name": "ipython",
    "version": 3
   },
   "file_extension": ".py",
   "mimetype": "text/x-python",
   "name": "python",
   "nbconvert_exporter": "python",
   "pygments_lexer": "ipython3",
   "version": "3.7.9"
  }
 },
 "nbformat": 4,
 "nbformat_minor": 4
}
