{
 "cells": [
  {
   "cell_type": "markdown",
   "metadata": {},
   "source": [
    "# 学習済みの畳み込みベースを用いたCNNの例題\n",
    "# Dog or Cat判別\n",
    "認識率を上げるため、既に学習されているモデルを利用する方法がある。\n",
    "\n",
    "CNNの場合は、畳み込み層の内容を他の学習モデル同等にし、全結合層のみ1から学習させることが多い。\n",
    "\n",
    "理由としては畳み込み層は汎用的で判別する対象が異なる場合でも利用できる場合が多いため。\n",
    "\n",
    "全結合層はそれぞれの判別器に特化しているため再利用できる機会は少ない。"
   ]
  },
  {
   "cell_type": "code",
   "execution_count": 1,
   "metadata": {},
   "outputs": [
    {
     "name": "stdout",
     "output_type": "stream",
     "text": [
      "tensorflow version : 2.3.1\n"
     ]
    }
   ],
   "source": [
    "%matplotlib inline\n",
    "\n",
    "import numpy as np\n",
    "from pandas import DataFrame\n",
    "import matplotlib.pyplot as plt\n",
    "\n",
    "import tensorflow as tf\n",
    "from tensorflow.keras import layers, models, initializers\n",
    "from tensorflow.keras.applications import VGG16\n",
    "\n",
    "np.random.seed(20210101)\n",
    "tf.random.set_seed(20210101)\n",
    "\n",
    "print(\"tensorflow version : \" + tf.__version__)"
   ]
  },
  {
   "cell_type": "markdown",
   "metadata": {},
   "source": [
    "# Get the trained model VGG16"
   ]
  },
  {
   "cell_type": "code",
   "execution_count": 2,
   "metadata": {},
   "outputs": [
    {
     "name": "stdout",
     "output_type": "stream",
     "text": [
      "Model: \"vgg16\"\n",
      "_________________________________________________________________\n",
      "Layer (type)                 Output Shape              Param #   \n",
      "=================================================================\n",
      "input_1 (InputLayer)         [(None, 150, 150, 3)]     0         \n",
      "_________________________________________________________________\n",
      "block1_conv1 (Conv2D)        (None, 150, 150, 64)      1792      \n",
      "_________________________________________________________________\n",
      "block1_conv2 (Conv2D)        (None, 150, 150, 64)      36928     \n",
      "_________________________________________________________________\n",
      "block1_pool (MaxPooling2D)   (None, 75, 75, 64)        0         \n",
      "_________________________________________________________________\n",
      "block2_conv1 (Conv2D)        (None, 75, 75, 128)       73856     \n",
      "_________________________________________________________________\n",
      "block2_conv2 (Conv2D)        (None, 75, 75, 128)       147584    \n",
      "_________________________________________________________________\n",
      "block2_pool (MaxPooling2D)   (None, 37, 37, 128)       0         \n",
      "_________________________________________________________________\n",
      "block3_conv1 (Conv2D)        (None, 37, 37, 256)       295168    \n",
      "_________________________________________________________________\n",
      "block3_conv2 (Conv2D)        (None, 37, 37, 256)       590080    \n",
      "_________________________________________________________________\n",
      "block3_conv3 (Conv2D)        (None, 37, 37, 256)       590080    \n",
      "_________________________________________________________________\n",
      "block3_pool (MaxPooling2D)   (None, 18, 18, 256)       0         \n",
      "_________________________________________________________________\n",
      "block4_conv1 (Conv2D)        (None, 18, 18, 512)       1180160   \n",
      "_________________________________________________________________\n",
      "block4_conv2 (Conv2D)        (None, 18, 18, 512)       2359808   \n",
      "_________________________________________________________________\n",
      "block4_conv3 (Conv2D)        (None, 18, 18, 512)       2359808   \n",
      "_________________________________________________________________\n",
      "block4_pool (MaxPooling2D)   (None, 9, 9, 512)         0         \n",
      "_________________________________________________________________\n",
      "block5_conv1 (Conv2D)        (None, 9, 9, 512)         2359808   \n",
      "_________________________________________________________________\n",
      "block5_conv2 (Conv2D)        (None, 9, 9, 512)         2359808   \n",
      "_________________________________________________________________\n",
      "block5_conv3 (Conv2D)        (None, 9, 9, 512)         2359808   \n",
      "_________________________________________________________________\n",
      "block5_pool (MaxPooling2D)   (None, 4, 4, 512)         0         \n",
      "=================================================================\n",
      "Total params: 14,714,688\n",
      "Trainable params: 14,714,688\n",
      "Non-trainable params: 0\n",
      "_________________________________________________________________\n"
     ]
    }
   ],
   "source": [
    "conv_base = VGG16(weights='imagenet',\n",
    "                  #畳み込みベースの層のみ利用し、全結合層は利用しない\n",
    "                  include_top=False,\n",
    "                  input_shape=(150, 150, 3))\n",
    "conv_base.summary()"
   ]
  },
  {
   "cell_type": "markdown",
   "metadata": {},
   "source": [
    "# Create the learning model using VGG16 conv layer"
   ]
  },
  {
   "cell_type": "code",
   "execution_count": 3,
   "metadata": {},
   "outputs": [
    {
     "name": "stdout",
     "output_type": "stream",
     "text": [
      "Model: \"sequential\"\n",
      "_________________________________________________________________\n",
      "Layer (type)                 Output Shape              Param #   \n",
      "=================================================================\n",
      "vgg16 (Functional)           (None, 4, 4, 512)         14714688  \n",
      "_________________________________________________________________\n",
      "flatten (Flatten)            (None, 8192)              0         \n",
      "_________________________________________________________________\n",
      "dense (Dense)                (None, 256)               2097408   \n",
      "_________________________________________________________________\n",
      "dense_1 (Dense)              (None, 1)                 257       \n",
      "=================================================================\n",
      "Total params: 16,812,353\n",
      "Trainable params: 16,812,353\n",
      "Non-trainable params: 0\n",
      "_________________________________________________________________\n"
     ]
    }
   ],
   "source": [
    "model = models.Sequential()\n",
    "model.add(conv_base)\n",
    "model.add(layers.Flatten())\n",
    "model.add(layers.Dense(256, activation='relu'))\n",
    "model.add(layers.Dense(1, activation='sigmoid'))\n",
    "model.summary()"
   ]
  },
  {
   "cell_type": "markdown",
   "metadata": {},
   "source": [
    "# Freeze the conv model parameters"
   ]
  },
  {
   "cell_type": "code",
   "execution_count": 4,
   "metadata": {},
   "outputs": [],
   "source": [
    "#訓練を行う前にconv modelの凍結を行い、VGG16用に学習されたパラメータから変更しないようにする\n",
    "#凍結しない場合、下の学習処理でconv部分のパラメータも変更されてしまうため\n",
    "conv_base.trainable = False"
   ]
  },
  {
   "cell_type": "markdown",
   "metadata": {},
   "source": [
    "# Modify the input data"
   ]
  },
  {
   "cell_type": "code",
   "execution_count": 5,
   "metadata": {},
   "outputs": [
    {
     "name": "stdout",
     "output_type": "stream",
     "text": [
      "Found 2000 images belonging to 2 classes.\n",
      "Found 1000 images belonging to 2 classes.\n"
     ]
    }
   ],
   "source": [
    "from tensorflow.keras.preprocessing.image import ImageDataGenerator\n",
    "import os\n",
    "\n",
    "base_dir = '.\\\\datasets\\\\cnn_dog_vs_cat'\n",
    "train_dir = os.path.join(base_dir, 'train')\n",
    "validation_dir = os.path.join(base_dir, 'validation')\n",
    "test_dir = os.path.join(base_dir, 'test')\n",
    "\n",
    "#学習データが少ないため、回転・平行移動・拡大等でデータ拡張(水増し)を行う\n",
    "train_datagen = ImageDataGenerator(\n",
    "    rescale=1./255,\n",
    "    rotation_range=40,\n",
    "    width_shift_range=0.2,\n",
    "    height_shift_range=0.2,\n",
    "    shear_range=0.2,\n",
    "    zoom_range=0.2,\n",
    "    horizontal_flip=True,)\n",
    "\n",
    "#検証データは水増しを行うべきではない\n",
    "test_datagen = ImageDataGenerator(rescale=1./255)\n",
    "\n",
    "train_generator = train_datagen.flow_from_directory(\n",
    "        train_dir,\n",
    "        target_size=(150, 150),\n",
    "        batch_size=20,\n",
    "        class_mode='binary')\n",
    "\n",
    "validation_generator = test_datagen.flow_from_directory(\n",
    "        validation_dir,\n",
    "        target_size=(150, 150),\n",
    "        batch_size=20,\n",
    "        class_mode='binary')"
   ]
  },
  {
   "cell_type": "markdown",
   "metadata": {},
   "source": [
    "# Training"
   ]
  },
  {
   "cell_type": "code",
   "execution_count": 6,
   "metadata": {},
   "outputs": [
    {
     "name": "stdout",
     "output_type": "stream",
     "text": [
      "WARNING:tensorflow:From <ipython-input-6-edb152a3d7c7>:11: Model.fit_generator (from tensorflow.python.keras.engine.training) is deprecated and will be removed in a future version.\n",
      "Instructions for updating:\n",
      "Please use Model.fit, which supports generators.\n",
      "Epoch 1/50\n",
      "50/50 [==============================] - 11s 222ms/step - loss: 0.5972 - accuracy: 0.6740 - val_loss: 0.3755 - val_accuracy: 0.8450\n",
      "Epoch 2/50\n",
      "50/50 [==============================] - 11s 222ms/step - loss: 0.4573 - accuracy: 0.7760 - val_loss: 0.3658 - val_accuracy: 0.8330\n",
      "Epoch 3/50\n",
      "50/50 [==============================] - 11s 222ms/step - loss: 0.4526 - accuracy: 0.7680 - val_loss: 0.2862 - val_accuracy: 0.8870\n",
      "Epoch 4/50\n",
      "50/50 [==============================] - 12s 235ms/step - loss: 0.4162 - accuracy: 0.8090 - val_loss: 0.3567 - val_accuracy: 0.8370\n",
      "Epoch 5/50\n",
      "50/50 [==============================] - 12s 239ms/step - loss: 0.3710 - accuracy: 0.8350 - val_loss: 0.2891 - val_accuracy: 0.8830\n",
      "Epoch 6/50\n",
      "50/50 [==============================] - 12s 239ms/step - loss: 0.3717 - accuracy: 0.8430 - val_loss: 0.2589 - val_accuracy: 0.8980\n",
      "Epoch 7/50\n",
      "50/50 [==============================] - 11s 223ms/step - loss: 0.3520 - accuracy: 0.8360 - val_loss: 0.2870 - val_accuracy: 0.8820\n",
      "Epoch 8/50\n",
      "50/50 [==============================] - 11s 223ms/step - loss: 0.3552 - accuracy: 0.8350 - val_loss: 0.2950 - val_accuracy: 0.8750\n",
      "Epoch 9/50\n",
      "50/50 [==============================] - 11s 226ms/step - loss: 0.3615 - accuracy: 0.8280 - val_loss: 0.2607 - val_accuracy: 0.8880\n",
      "Epoch 10/50\n",
      "50/50 [==============================] - 11s 222ms/step - loss: 0.3439 - accuracy: 0.8450 - val_loss: 0.2926 - val_accuracy: 0.8810\n",
      "Epoch 11/50\n",
      "50/50 [==============================] - 11s 218ms/step - loss: 0.3430 - accuracy: 0.8430 - val_loss: 0.2528 - val_accuracy: 0.8900\n",
      "Epoch 12/50\n",
      "50/50 [==============================] - 11s 219ms/step - loss: 0.3296 - accuracy: 0.8550 - val_loss: 0.3035 - val_accuracy: 0.8780\n",
      "Epoch 13/50\n",
      "50/50 [==============================] - 11s 220ms/step - loss: 0.3215 - accuracy: 0.8580 - val_loss: 0.2484 - val_accuracy: 0.8970\n",
      "Epoch 14/50\n",
      "50/50 [==============================] - 11s 220ms/step - loss: 0.3206 - accuracy: 0.8630 - val_loss: 0.2686 - val_accuracy: 0.8960\n",
      "Epoch 15/50\n",
      "50/50 [==============================] - 11s 219ms/step - loss: 0.3333 - accuracy: 0.8560 - val_loss: 0.2849 - val_accuracy: 0.8770\n",
      "Epoch 16/50\n",
      "50/50 [==============================] - 11s 216ms/step - loss: 0.3153 - accuracy: 0.8600 - val_loss: 0.2930 - val_accuracy: 0.8750\n",
      "Epoch 17/50\n",
      "50/50 [==============================] - 11s 219ms/step - loss: 0.3269 - accuracy: 0.8500 - val_loss: 0.2471 - val_accuracy: 0.8900\n",
      "Epoch 18/50\n",
      "50/50 [==============================] - 11s 217ms/step - loss: 0.3148 - accuracy: 0.8600 - val_loss: 0.2963 - val_accuracy: 0.8790\n",
      "Epoch 19/50\n",
      "50/50 [==============================] - 11s 218ms/step - loss: 0.3237 - accuracy: 0.8580 - val_loss: 0.2510 - val_accuracy: 0.8900\n",
      "Epoch 20/50\n",
      "50/50 [==============================] - 11s 220ms/step - loss: 0.3109 - accuracy: 0.8630 - val_loss: 0.2565 - val_accuracy: 0.8940\n",
      "Epoch 21/50\n",
      "50/50 [==============================] - 11s 226ms/step - loss: 0.3129 - accuracy: 0.8580 - val_loss: 0.2516 - val_accuracy: 0.8970\n",
      "Epoch 22/50\n",
      "50/50 [==============================] - 11s 225ms/step - loss: 0.3296 - accuracy: 0.8480 - val_loss: 0.3085 - val_accuracy: 0.8700\n",
      "Epoch 23/50\n",
      "50/50 [==============================] - 11s 227ms/step - loss: 0.2793 - accuracy: 0.8740 - val_loss: 0.3063 - val_accuracy: 0.8760\n",
      "Epoch 24/50\n",
      "50/50 [==============================] - 11s 225ms/step - loss: 0.2932 - accuracy: 0.8680 - val_loss: 0.2874 - val_accuracy: 0.8750\n",
      "Epoch 25/50\n",
      "50/50 [==============================] - 11s 225ms/step - loss: 0.2841 - accuracy: 0.8730 - val_loss: 0.2612 - val_accuracy: 0.9040\n",
      "Epoch 26/50\n",
      "50/50 [==============================] - 11s 223ms/step - loss: 0.3125 - accuracy: 0.8680 - val_loss: 0.2522 - val_accuracy: 0.9000\n",
      "Epoch 27/50\n",
      "50/50 [==============================] - 11s 228ms/step - loss: 0.3003 - accuracy: 0.8720 - val_loss: 0.3149 - val_accuracy: 0.8670\n",
      "Epoch 28/50\n",
      "50/50 [==============================] - 11s 223ms/step - loss: 0.3069 - accuracy: 0.8650 - val_loss: 0.2549 - val_accuracy: 0.9120\n",
      "Epoch 29/50\n",
      "50/50 [==============================] - 11s 226ms/step - loss: 0.2848 - accuracy: 0.8810 - val_loss: 0.2486 - val_accuracy: 0.9050\n",
      "Epoch 30/50\n",
      "50/50 [==============================] - 11s 226ms/step - loss: 0.3163 - accuracy: 0.8640 - val_loss: 0.2459 - val_accuracy: 0.8990\n",
      "Epoch 31/50\n",
      "50/50 [==============================] - 11s 227ms/step - loss: 0.3008 - accuracy: 0.8690 - val_loss: 0.2479 - val_accuracy: 0.9090\n",
      "Epoch 32/50\n",
      "50/50 [==============================] - 11s 224ms/step - loss: 0.3035 - accuracy: 0.8680 - val_loss: 0.2633 - val_accuracy: 0.8900\n",
      "Epoch 33/50\n",
      "50/50 [==============================] - 11s 225ms/step - loss: 0.3077 - accuracy: 0.8730 - val_loss: 0.2693 - val_accuracy: 0.8870\n",
      "Epoch 34/50\n",
      "50/50 [==============================] - 11s 222ms/step - loss: 0.2683 - accuracy: 0.8900 - val_loss: 0.2711 - val_accuracy: 0.8920\n",
      "Epoch 35/50\n",
      "50/50 [==============================] - 12s 233ms/step - loss: 0.2749 - accuracy: 0.8890 - val_loss: 0.2440 - val_accuracy: 0.9030\n",
      "Epoch 36/50\n",
      "50/50 [==============================] - 11s 225ms/step - loss: 0.2826 - accuracy: 0.8830 - val_loss: 0.2924 - val_accuracy: 0.8790\n",
      "Epoch 37/50\n",
      "50/50 [==============================] - 11s 225ms/step - loss: 0.2744 - accuracy: 0.8690 - val_loss: 0.2520 - val_accuracy: 0.9040\n",
      "Epoch 38/50\n",
      "50/50 [==============================] - 11s 225ms/step - loss: 0.2873 - accuracy: 0.8750 - val_loss: 0.2508 - val_accuracy: 0.9020\n",
      "Epoch 39/50\n",
      "50/50 [==============================] - 11s 226ms/step - loss: 0.2858 - accuracy: 0.8660 - val_loss: 0.2803 - val_accuracy: 0.8820\n",
      "Epoch 40/50\n",
      "50/50 [==============================] - 12s 231ms/step - loss: 0.2499 - accuracy: 0.8920 - val_loss: 0.2578 - val_accuracy: 0.8960\n",
      "Epoch 41/50\n",
      "50/50 [==============================] - 11s 225ms/step - loss: 0.2852 - accuracy: 0.8760 - val_loss: 0.2566 - val_accuracy: 0.8950\n",
      "Epoch 42/50\n",
      "50/50 [==============================] - 12s 232ms/step - loss: 0.2667 - accuracy: 0.8880 - val_loss: 0.2560 - val_accuracy: 0.9020\n",
      "Epoch 43/50\n",
      "50/50 [==============================] - 11s 227ms/step - loss: 0.2768 - accuracy: 0.8750 - val_loss: 0.2502 - val_accuracy: 0.9030\n",
      "Epoch 44/50\n",
      "50/50 [==============================] - 11s 226ms/step - loss: 0.3008 - accuracy: 0.8700 - val_loss: 0.2623 - val_accuracy: 0.8960\n",
      "Epoch 45/50\n",
      "50/50 [==============================] - 11s 229ms/step - loss: 0.2522 - accuracy: 0.8900 - val_loss: 0.2489 - val_accuracy: 0.9050\n",
      "Epoch 46/50\n",
      "50/50 [==============================] - 11s 228ms/step - loss: 0.2679 - accuracy: 0.8840 - val_loss: 0.3086 - val_accuracy: 0.8740\n",
      "Epoch 47/50\n",
      "50/50 [==============================] - 11s 227ms/step - loss: 0.2599 - accuracy: 0.8860 - val_loss: 0.2471 - val_accuracy: 0.9060\n",
      "Epoch 48/50\n",
      "50/50 [==============================] - 11s 224ms/step - loss: 0.2469 - accuracy: 0.8910 - val_loss: 0.2577 - val_accuracy: 0.8990\n",
      "Epoch 49/50\n",
      "50/50 [==============================] - 11s 225ms/step - loss: 0.2657 - accuracy: 0.8800 - val_loss: 0.2503 - val_accuracy: 0.9010\n",
      "Epoch 50/50\n",
      "50/50 [==============================] - 11s 225ms/step - loss: 0.2753 - accuracy: 0.8700 - val_loss: 0.2722 - val_accuracy: 0.8930\n"
     ]
    },
    {
     "data": {
      "image/png": "[encoded data removed]",
      "text/plain": [
       "<Figure size 432x288 with 1 Axes>"
      ]
     },
     "metadata": {
      "needs_background": "light"
     },
     "output_type": "display_data"
    },
    {
     "data": {
      "image/png": "[encoded data removed]",
      "text/plain": [
       "<Figure size 432x288 with 1 Axes>"
      ]
     },
     "metadata": {
      "needs_background": "light"
     },
     "output_type": "display_data"
    }
   ],
   "source": [
    "from tensorflow.keras import optimizers\n",
    "\n",
    "model.compile(loss='binary_crossentropy',\n",
    "              optimizer=optimizers.RMSprop(lr=1e-4),\n",
    "              metrics=['accuracy'])\n",
    "\n",
    "training = model.fit_generator(\n",
    "      train_generator,\n",
    "      steps_per_epoch=50,\n",
    "      epochs=50,\n",
    "      validation_data=validation_generator)\n",
    "\n",
    "#正答率\n",
    "plt.plot(training.history['accuracy'])\n",
    "plt.plot(training.history['val_accuracy'])\n",
    "plt.title('model accuracy')\n",
    "plt.ylabel('accuracy')\n",
    "plt.xlabel('epoch')\n",
    "plt.legend(['train', 'test'], loc='upper left')\n",
    "plt.show()\n",
    "#loss\n",
    "plt.plot(training.history['loss'])\n",
    "plt.plot(training.history['val_loss'])\n",
    "plt.title('model loss')\n",
    "plt.ylabel('loss')\n",
    "plt.xlabel('epoch')\n",
    "plt.legend(['train', 'test'], loc='upper left')\n",
    "plt.show()"
   ]
  },
  {
   "cell_type": "markdown",
   "metadata": {},
   "source": [
    "# Save the model"
   ]
  },
  {
   "cell_type": "code",
   "execution_count": 7,
   "metadata": {},
   "outputs": [
    {
     "name": "stdout",
     "output_type": "stream",
     "text": [
      "Tensor(\"vgg16_input:0\", shape=(None, 150, 150, 3), dtype=float32)\n",
      "Tensor(\"dense_1/Sigmoid:0\", shape=(None, 1), dtype=float32)\n"
     ]
    }
   ],
   "source": [
    "model.save('models\\\\cnn_dog_vs_cat_using_vgg16_conv.h5')\n",
    "#model.save('models/cnn_dog_vs_cat_using_vgg16_conv.h5')\n",
    "\n",
    "print(model.input)\n",
    "print(model.output)"
   ]
  },
  {
   "cell_type": "markdown",
   "metadata": {},
   "source": [
    "# Fine turning\n",
    "畳み込み層の後段のいくつかを解凍し、新たに追加した部分(全結合層)と共に学習を行う。\n",
    "\n",
    "畳み込み層の入力側の層はより汎用的で再利用可能な特徴量を処理しており、\n",
    "後段の層はより非汎用的であるため。\n",
    "\n",
    "今回はblock5の内容をFine turninする。\n",
    "\n",
    "Fine turningを行う際には下記の手順で行う。\n",
    "\n",
    "1.訓練済みのモデルの最後に独自のモデルを追加する\n",
    "\n",
    "2.訓練済みのモデルを凍結する\n",
    "\n",
    "3.訓練を行う\n",
    "\n",
    "4.訓練済みのモデルの一部の層を解凍する\n",
    "\n",
    "5.解凍した層と独自のモデルの学習を再度行う"
   ]
  },
  {
   "cell_type": "code",
   "execution_count": 8,
   "metadata": {},
   "outputs": [
    {
     "name": "stdout",
     "output_type": "stream",
     "text": [
      "Model: \"vgg16\"\n",
      "_________________________________________________________________\n",
      "Layer (type)                 Output Shape              Param #   \n",
      "=================================================================\n",
      "input_1 (InputLayer)         [(None, 150, 150, 3)]     0         \n",
      "_________________________________________________________________\n",
      "block1_conv1 (Conv2D)        (None, 150, 150, 64)      1792      \n",
      "_________________________________________________________________\n",
      "block1_conv2 (Conv2D)        (None, 150, 150, 64)      36928     \n",
      "_________________________________________________________________\n",
      "block1_pool (MaxPooling2D)   (None, 75, 75, 64)        0         \n",
      "_________________________________________________________________\n",
      "block2_conv1 (Conv2D)        (None, 75, 75, 128)       73856     \n",
      "_________________________________________________________________\n",
      "block2_conv2 (Conv2D)        (None, 75, 75, 128)       147584    \n",
      "_________________________________________________________________\n",
      "block2_pool (MaxPooling2D)   (None, 37, 37, 128)       0         \n",
      "_________________________________________________________________\n",
      "block3_conv1 (Conv2D)        (None, 37, 37, 256)       295168    \n",
      "_________________________________________________________________\n",
      "block3_conv2 (Conv2D)        (None, 37, 37, 256)       590080    \n",
      "_________________________________________________________________\n",
      "block3_conv3 (Conv2D)        (None, 37, 37, 256)       590080    \n",
      "_________________________________________________________________\n",
      "block3_pool (MaxPooling2D)   (None, 18, 18, 256)       0         \n",
      "_________________________________________________________________\n",
      "block4_conv1 (Conv2D)        (None, 18, 18, 512)       1180160   \n",
      "_________________________________________________________________\n",
      "block4_conv2 (Conv2D)        (None, 18, 18, 512)       2359808   \n",
      "_________________________________________________________________\n",
      "block4_conv3 (Conv2D)        (None, 18, 18, 512)       2359808   \n",
      "_________________________________________________________________\n",
      "block4_pool (MaxPooling2D)   (None, 9, 9, 512)         0         \n",
      "_________________________________________________________________\n",
      "block5_conv1 (Conv2D)        (None, 9, 9, 512)         2359808   \n",
      "_________________________________________________________________\n",
      "block5_conv2 (Conv2D)        (None, 9, 9, 512)         2359808   \n",
      "_________________________________________________________________\n",
      "block5_conv3 (Conv2D)        (None, 9, 9, 512)         2359808   \n",
      "_________________________________________________________________\n",
      "block5_pool (MaxPooling2D)   (None, 4, 4, 512)         0         \n",
      "=================================================================\n",
      "Total params: 14,714,688\n",
      "Trainable params: 0\n",
      "Non-trainable params: 14,714,688\n",
      "_________________________________________________________________\n"
     ]
    }
   ],
   "source": [
    "conv_base.summary()"
   ]
  },
  {
   "cell_type": "code",
   "execution_count": 9,
   "metadata": {},
   "outputs": [],
   "source": [
    "# block5のみ解凍を行う\n",
    "conv_base.trainable = True\n",
    "\n",
    "set_trainable = False\n",
    "for layer in conv_base.layers:\n",
    "    if layer.name == 'block5_conv1':\n",
    "        set_trainable = True\n",
    "    if set_trainable:\n",
    "        layer.trainable = True\n",
    "    else:\n",
    "        layer.trainable = False"
   ]
  },
  {
   "cell_type": "code",
   "execution_count": null,
   "metadata": {},
   "outputs": [],
   "source": []
  },
  {
   "cell_type": "code",
   "execution_count": 10,
   "metadata": {},
   "outputs": [
    {
     "name": "stdout",
     "output_type": "stream",
     "text": [
      "Epoch 1/50\n",
      "50/50 [==============================] - 12s 235ms/step - loss: 0.2810 - accuracy: 0.8690 - val_loss: 0.2400 - val_accuracy: 0.9060\n",
      "Epoch 2/50\n",
      "50/50 [==============================] - 12s 233ms/step - loss: 0.2521 - accuracy: 0.8940 - val_loss: 0.2445 - val_accuracy: 0.9100\n",
      "Epoch 3/50\n",
      "50/50 [==============================] - 12s 240ms/step - loss: 0.2193 - accuracy: 0.9150 - val_loss: 0.2513 - val_accuracy: 0.9140\n",
      "Epoch 4/50\n",
      "50/50 [==============================] - 12s 243ms/step - loss: 0.2250 - accuracy: 0.9090 - val_loss: 0.2354 - val_accuracy: 0.9210\n",
      "Epoch 5/50\n",
      "50/50 [==============================] - 12s 230ms/step - loss: 0.2024 - accuracy: 0.9200 - val_loss: 0.2334 - val_accuracy: 0.9090\n",
      "Epoch 6/50\n",
      "50/50 [==============================] - 11s 226ms/step - loss: 0.2178 - accuracy: 0.9140 - val_loss: 0.2208 - val_accuracy: 0.9190\n",
      "Epoch 7/50\n",
      "50/50 [==============================] - 11s 223ms/step - loss: 0.2160 - accuracy: 0.9080 - val_loss: 0.2243 - val_accuracy: 0.9150\n",
      "Epoch 8/50\n",
      "50/50 [==============================] - 11s 222ms/step - loss: 0.2094 - accuracy: 0.9110 - val_loss: 0.2303 - val_accuracy: 0.9150\n",
      "Epoch 9/50\n",
      "50/50 [==============================] - 11s 224ms/step - loss: 0.1736 - accuracy: 0.9360 - val_loss: 0.2406 - val_accuracy: 0.9130\n",
      "Epoch 10/50\n",
      "50/50 [==============================] - 11s 220ms/step - loss: 0.1943 - accuracy: 0.9200 - val_loss: 0.2227 - val_accuracy: 0.9230\n",
      "Epoch 11/50\n",
      "50/50 [==============================] - 11s 224ms/step - loss: 0.1762 - accuracy: 0.9240 - val_loss: 0.2249 - val_accuracy: 0.9250\n",
      "Epoch 12/50\n",
      "50/50 [==============================] - 11s 225ms/step - loss: 0.1687 - accuracy: 0.9310 - val_loss: 0.2597 - val_accuracy: 0.9090\n",
      "Epoch 13/50\n",
      "50/50 [==============================] - 13s 266ms/step - loss: 0.1738 - accuracy: 0.9260 - val_loss: 0.2229 - val_accuracy: 0.9230\n",
      "Epoch 14/50\n",
      "50/50 [==============================] - 11s 225ms/step - loss: 0.1754 - accuracy: 0.9330 - val_loss: 0.2288 - val_accuracy: 0.9200\n",
      "Epoch 15/50\n",
      "50/50 [==============================] - 12s 237ms/step - loss: 0.1680 - accuracy: 0.9280 - val_loss: 0.2126 - val_accuracy: 0.9240\n",
      "Epoch 16/50\n",
      "50/50 [==============================] - 12s 235ms/step - loss: 0.1758 - accuracy: 0.9320 - val_loss: 0.2232 - val_accuracy: 0.9260\n",
      "Epoch 17/50\n",
      "50/50 [==============================] - 12s 238ms/step - loss: 0.1478 - accuracy: 0.9360 - val_loss: 0.2476 - val_accuracy: 0.9180\n",
      "Epoch 18/50\n",
      "50/50 [==============================] - 12s 240ms/step - loss: 0.1566 - accuracy: 0.9300 - val_loss: 0.2162 - val_accuracy: 0.9270\n",
      "Epoch 19/50\n",
      "50/50 [==============================] - 11s 230ms/step - loss: 0.1262 - accuracy: 0.9410 - val_loss: 0.2514 - val_accuracy: 0.9240\n",
      "Epoch 20/50\n",
      "50/50 [==============================] - 13s 255ms/step - loss: 0.1386 - accuracy: 0.9480 - val_loss: 0.2289 - val_accuracy: 0.9290\n",
      "Epoch 21/50\n",
      "50/50 [==============================] - 11s 224ms/step - loss: 0.1340 - accuracy: 0.9450 - val_loss: 0.2534 - val_accuracy: 0.9250\n",
      "Epoch 22/50\n",
      "50/50 [==============================] - 11s 224ms/step - loss: 0.1361 - accuracy: 0.9410 - val_loss: 0.2612 - val_accuracy: 0.9060\n",
      "Epoch 23/50\n",
      "50/50 [==============================] - 11s 220ms/step - loss: 0.1260 - accuracy: 0.9460 - val_loss: 0.2314 - val_accuracy: 0.9230\n",
      "Epoch 24/50\n",
      "50/50 [==============================] - 11s 221ms/step - loss: 0.1132 - accuracy: 0.9580 - val_loss: 0.2619 - val_accuracy: 0.9240\n",
      "Epoch 25/50\n",
      "50/50 [==============================] - 11s 217ms/step - loss: 0.1280 - accuracy: 0.9460 - val_loss: 0.2319 - val_accuracy: 0.9280\n",
      "Epoch 26/50\n",
      "50/50 [==============================] - 11s 221ms/step - loss: 0.1473 - accuracy: 0.9460 - val_loss: 0.2194 - val_accuracy: 0.9280\n",
      "Epoch 27/50\n",
      "50/50 [==============================] - 11s 220ms/step - loss: 0.1076 - accuracy: 0.9520 - val_loss: 0.2338 - val_accuracy: 0.9270\n",
      "Epoch 28/50\n",
      "50/50 [==============================] - 11s 218ms/step - loss: 0.1338 - accuracy: 0.9490 - val_loss: 0.2230 - val_accuracy: 0.9240\n",
      "Epoch 29/50\n",
      "50/50 [==============================] - 11s 220ms/step - loss: 0.1084 - accuracy: 0.9630 - val_loss: 0.2264 - val_accuracy: 0.9290\n",
      "Epoch 30/50\n",
      "50/50 [==============================] - 11s 222ms/step - loss: 0.1285 - accuracy: 0.9500 - val_loss: 0.2450 - val_accuracy: 0.9270\n",
      "Epoch 31/50\n",
      "50/50 [==============================] - 11s 215ms/step - loss: 0.1106 - accuracy: 0.9520 - val_loss: 0.2311 - val_accuracy: 0.9280\n",
      "Epoch 32/50\n",
      "50/50 [==============================] - 11s 229ms/step - loss: 0.0950 - accuracy: 0.9660 - val_loss: 0.2561 - val_accuracy: 0.9280\n",
      "Epoch 33/50\n",
      "50/50 [==============================] - 11s 223ms/step - loss: 0.1066 - accuracy: 0.9510 - val_loss: 0.2213 - val_accuracy: 0.9330\n",
      "Epoch 34/50\n",
      "50/50 [==============================] - 11s 223ms/step - loss: 0.0968 - accuracy: 0.9590 - val_loss: 0.2758 - val_accuracy: 0.9180\n",
      "Epoch 35/50\n",
      "50/50 [==============================] - 11s 225ms/step - loss: 0.1099 - accuracy: 0.9610 - val_loss: 0.2660 - val_accuracy: 0.9180\n",
      "Epoch 36/50\n",
      "50/50 [==============================] - 12s 237ms/step - loss: 0.1041 - accuracy: 0.9620 - val_loss: 0.2732 - val_accuracy: 0.9190\n",
      "Epoch 37/50\n",
      "50/50 [==============================] - 12s 246ms/step - loss: 0.0754 - accuracy: 0.9700 - val_loss: 0.2685 - val_accuracy: 0.9250\n",
      "Epoch 38/50\n",
      "50/50 [==============================] - 13s 257ms/step - loss: 0.0946 - accuracy: 0.9670 - val_loss: 0.2246 - val_accuracy: 0.9330\n",
      "Epoch 39/50\n",
      "50/50 [==============================] - 12s 246ms/step - loss: 0.1113 - accuracy: 0.9590 - val_loss: 0.2266 - val_accuracy: 0.9310\n",
      "Epoch 40/50\n",
      "50/50 [==============================] - 12s 236ms/step - loss: 0.1048 - accuracy: 0.9540 - val_loss: 0.2303 - val_accuracy: 0.9310\n",
      "Epoch 41/50\n",
      "50/50 [==============================] - 11s 228ms/step - loss: 0.0824 - accuracy: 0.9740 - val_loss: 0.2247 - val_accuracy: 0.9280\n",
      "Epoch 42/50\n",
      "50/50 [==============================] - 12s 235ms/step - loss: 0.0869 - accuracy: 0.9690 - val_loss: 0.3043 - val_accuracy: 0.9190\n",
      "Epoch 43/50\n",
      "50/50 [==============================] - 12s 239ms/step - loss: 0.0981 - accuracy: 0.9630 - val_loss: 0.2376 - val_accuracy: 0.9280\n",
      "Epoch 44/50\n",
      "50/50 [==============================] - 12s 241ms/step - loss: 0.0786 - accuracy: 0.9690 - val_loss: 0.2257 - val_accuracy: 0.9320\n",
      "Epoch 45/50\n",
      "50/50 [==============================] - 12s 237ms/step - loss: 0.0792 - accuracy: 0.9720 - val_loss: 0.2194 - val_accuracy: 0.9350\n",
      "Epoch 46/50\n",
      "50/50 [==============================] - 12s 233ms/step - loss: 0.0841 - accuracy: 0.9660 - val_loss: 0.3248 - val_accuracy: 0.9170\n",
      "Epoch 47/50\n",
      "50/50 [==============================] - 12s 233ms/step - loss: 0.0929 - accuracy: 0.9620 - val_loss: 0.2391 - val_accuracy: 0.9240\n",
      "Epoch 48/50\n",
      "50/50 [==============================] - 12s 231ms/step - loss: 0.0801 - accuracy: 0.9770 - val_loss: 0.2540 - val_accuracy: 0.9210\n",
      "Epoch 49/50\n",
      "50/50 [==============================] - 11s 228ms/step - loss: 0.0855 - accuracy: 0.9600 - val_loss: 0.2372 - val_accuracy: 0.9290\n",
      "Epoch 50/50\n",
      "50/50 [==============================] - 13s 256ms/step - loss: 0.0776 - accuracy: 0.9640 - val_loss: 0.2745 - val_accuracy: 0.9210\n"
     ]
    },
    {
     "data": {
      "image/png": "[encoded data removed]",
      "text/plain": [
       "<Figure size 432x288 with 1 Axes>"
      ]
     },
     "metadata": {
      "needs_background": "light"
     },
     "output_type": "display_data"
    },
    {
     "data": {
      "image/png": "[encoded data removed]",
      "text/plain": [
       "<Figure size 432x288 with 1 Axes>"
      ]
     },
     "metadata": {
      "needs_background": "light"
     },
     "output_type": "display_data"
    }
   ],
   "source": [
    "#Fine turning時はRMSpropと低い学習率を用いることが多い\n",
    "#理由としては学習による変化量を制限したいため、変化量が大きいとパラメータが破壊されてしまうから\n",
    "model.compile(loss='binary_crossentropy',\n",
    "              optimizer=optimizers.RMSprop(lr=1e-5),\n",
    "              metrics=['accuracy'])\n",
    "\n",
    "training = model.fit_generator(\n",
    "      train_generator,\n",
    "      steps_per_epoch=50,\n",
    "      epochs=50,\n",
    "      validation_data=validation_generator)\n",
    "\n",
    "#正答率\n",
    "plt.plot(training.history['accuracy'])\n",
    "plt.plot(training.history['val_accuracy'])\n",
    "plt.title('model accuracy')\n",
    "plt.ylabel('accuracy')\n",
    "plt.xlabel('epoch')\n",
    "plt.legend(['train', 'test'], loc='upper left')\n",
    "plt.show()\n",
    "#loss\n",
    "plt.plot(training.history['loss'])\n",
    "plt.plot(training.history['val_loss'])\n",
    "plt.title('model loss')\n",
    "plt.ylabel('loss')\n",
    "plt.xlabel('epoch')\n",
    "plt.legend(['train', 'test'], loc='upper left')\n",
    "plt.show()"
   ]
  },
  {
   "cell_type": "code",
   "execution_count": null,
   "metadata": {},
   "outputs": [],
   "source": []
  },
  {
   "cell_type": "code",
   "execution_count": 11,
   "metadata": {},
   "outputs": [
    {
     "name": "stdout",
     "output_type": "stream",
     "text": [
      "Tensor(\"vgg16_input:0\", shape=(None, 150, 150, 3), dtype=float32)\n",
      "Tensor(\"dense_1/Sigmoid:0\", shape=(None, 1), dtype=float32)\n"
     ]
    }
   ],
   "source": [
    "model.save('models\\\\cnn_dog_vs_cat_using_vgg16_conv2.h5')\n",
    "#model.save('models/cnn_dog_vs_cat_using_vgg16_conv2.h5')\n",
    "\n",
    "print(model.input)\n",
    "print(model.output)"
   ]
  },
  {
   "cell_type": "code",
   "execution_count": null,
   "metadata": {},
   "outputs": [],
   "source": []
  },
  {
   "cell_type": "code",
   "execution_count": 16,
   "metadata": {},
   "outputs": [
    {
     "name": "stdout",
     "output_type": "stream",
     "text": [
      "Found 1000 images belonging to 2 classes.\n",
      "50/50 [==============================] - 3s 67ms/step - loss: 0.3102 - accuracy: 0.9190\n"
     ]
    },
    {
     "data": {
      "text/plain": [
       "[0.31020474433898926, 0.9190000295639038]"
      ]
     },
     "execution_count": 16,
     "metadata": {},
     "output_type": "execute_result"
    }
   ],
   "source": [
    "test_generator = test_datagen.flow_from_directory(\n",
    "        test_dir,\n",
    "        target_size=(150, 150),\n",
    "        batch_size=20,\n",
    "        class_mode='binary')\n",
    "\n",
    "model.evaluate(test_generator, steps=50)"
   ]
  },
  {
   "cell_type": "code",
   "execution_count": null,
   "metadata": {},
   "outputs": [],
   "source": []
  },
  {
   "cell_type": "code",
   "execution_count": null,
   "metadata": {},
   "outputs": [],
   "source": []
  }
 ],
 "metadata": {
  "kernelspec": {
   "display_name": "Python 3",
   "language": "python",
   "name": "python3"
  },
  "language_info": {
   "codemirror_mode": {
    "name": "ipython",
    "version": 3
   },
   "file_extension": ".py",
   "mimetype": "text/x-python",
   "name": "python",
   "nbconvert_exporter": "python",
   "pygments_lexer": "ipython3",
   "version": "3.7.9"
  }
 },
 "nbformat": 4,
 "nbformat_minor": 4
}
