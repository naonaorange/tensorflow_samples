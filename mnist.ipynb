{
 "cells": [
  {
   "cell_type": "markdown",
   "metadata": {},
   "source": [
    "# Overview\n",
    "\n",
    "This note is written the basic MNIST sample."
   ]
  },
  {
   "cell_type": "markdown",
   "metadata": {},
   "source": [
    "# Initial Setting"
   ]
  },
  {
   "cell_type": "code",
   "execution_count": 1,
   "metadata": {},
   "outputs": [
    {
     "name": "stdout",
     "output_type": "stream",
     "text": [
      "tensorflow version : 2.3.1\n"
     ]
    }
   ],
   "source": [
    "%matplotlib inline\n",
    "\n",
    "import numpy as np\n",
    "import matplotlib.pyplot as plt\n",
    "\n",
    "import tensorflow as tf\n",
    "from tensorflow.keras import layers, models, initializers\n",
    "from tensorflow.keras.datasets import mnist\n",
    "\n",
    "np.random.seed(20200426)\n",
    "tf.random.set_seed(20200426)\n",
    "\n",
    "print(\"tensorflow version : \" + tf.__version__)"
   ]
  },
  {
   "cell_type": "markdown",
   "metadata": {},
   "source": [
    "# Create input data"
   ]
  },
  {
   "cell_type": "code",
   "execution_count": 3,
   "metadata": {},
   "outputs": [
    {
     "name": "stdout",
     "output_type": "stream",
     "text": [
      "x_train.shape:  (50000, 28, 28)\n",
      "y_train.shape:  (50000,)\n",
      "x_val.shape:  (10000, 28, 28)\n",
      "y_val.shape:  (10000,)\n",
      "x_test.shape:  (10000, 28, 28)\n",
      "y_test.shape:  (10000,)\n",
      "\n",
      "x_train\n",
      "[[0. 0. 0. ... 0. 0. 0.]\n",
      " [0. 0. 0. ... 0. 0. 0.]\n",
      " [0. 0. 0. ... 0. 0. 0.]\n",
      " ...\n",
      " [0. 0. 0. ... 0. 0. 0.]\n",
      " [0. 0. 0. ... 0. 0. 0.]\n",
      " [0. 0. 0. ... 0. 0. 0.]]\n",
      "\n",
      "y_train\n",
      "[[0. 0. 0. ... 0. 0. 0.]\n",
      " [0. 0. 0. ... 0. 1. 0.]\n",
      " [0. 0. 0. ... 1. 0. 0.]\n",
      " ...\n",
      " [0. 0. 0. ... 0. 0. 0.]\n",
      " [0. 0. 0. ... 0. 0. 0.]\n",
      " [0. 0. 0. ... 0. 1. 0.]]\n"
     ]
    }
   ],
   "source": [
    "(x_train, y_train), (x_test, y_test) = mnist.load_data()\n",
    "x_val = x_train[:10000]\n",
    "x_train = x_train[10000:]\n",
    "y_val = y_train[:10000]\n",
    "y_train = y_train[10000:]\n",
    "print('x_train.shape: ', x_train.shape)\n",
    "print('y_train.shape: ', y_train.shape)\n",
    "print('x_val.shape: ', x_val.shape)\n",
    "print('y_val.shape: ', y_val.shape)\n",
    "print('x_test.shape: ', x_test.shape)\n",
    "print('y_test.shape: ', y_test.shape)\n",
    "\n",
    "x_train = x_train.reshape((len(x_train), 28*28)).astype('float32')\n",
    "x_val = x_val.reshape((len(x_val), 28*28)).astype('float32')\n",
    "x_test = x_test.reshape((len(x_test), 28*28)).astype('float32')\n",
    "x_train = x_train / 255\n",
    "x_val = x_val / 255\n",
    "x_test = x_test / 255\n",
    "print('\\nx_train')\n",
    "print(x_train)\n",
    "\n",
    "y_train = tf.keras.utils.to_categorical(y_train, 10)\n",
    "y_val = tf.keras.utils.to_categorical(y_val, 10)\n",
    "y_test = tf.keras.utils.to_categorical(y_test, 10)\n",
    "print('\\ny_train')\n",
    "print(y_train)"
   ]
  },
  {
   "cell_type": "markdown",
   "metadata": {},
   "source": [
    "# Create deep learning layer"
   ]
  },
  {
   "cell_type": "code",
   "execution_count": 4,
   "metadata": {},
   "outputs": [
    {
     "name": "stdout",
     "output_type": "stream",
     "text": [
      "Model: \"sequential\"\n",
      "_________________________________________________________________\n",
      "Layer (type)                 Output Shape              Param #   \n",
      "=================================================================\n",
      "dense (Dense)                (None, 128)               100480    \n",
      "_________________________________________________________________\n",
      "y (Dense)                    (None, 10)                1290      \n",
      "=================================================================\n",
      "Total params: 101,770\n",
      "Trainable params: 101,770\n",
      "Non-trainable params: 0\n",
      "_________________________________________________________________\n"
     ]
    }
   ],
   "source": [
    "model = models.Sequential()\n",
    "model.add(layers.Dense(128, activation='relu', input_shape=(28*28,)))\n",
    "model.add(layers.Dense(10, activation='softmax', name='y'))\n",
    "model.summary()\n",
    "\n",
    "model.compile(optimizer='adam',\n",
    "              loss='categorical_crossentropy',\n",
    "              metrics=['accuracy'])"
   ]
  },
  {
   "cell_type": "markdown",
   "metadata": {},
   "source": [
    "# Trainning"
   ]
  },
  {
   "cell_type": "code",
   "execution_count": 5,
   "metadata": {},
   "outputs": [
    {
     "name": "stdout",
     "output_type": "stream",
     "text": [
      "Epoch 1/5\n",
      "391/391 [==============================] - 1s 3ms/step - loss: 0.3924 - accuracy: 0.8918 - val_loss: 0.2154 - val_accuracy: 0.9373\n",
      "Epoch 2/5\n",
      "391/391 [==============================] - 1s 2ms/step - loss: 0.1788 - accuracy: 0.9485 - val_loss: 0.1551 - val_accuracy: 0.9554\n",
      "Epoch 3/5\n",
      "391/391 [==============================] - 1s 2ms/step - loss: 0.1281 - accuracy: 0.9630 - val_loss: 0.1283 - val_accuracy: 0.9642\n",
      "Epoch 4/5\n",
      "391/391 [==============================] - 1s 2ms/step - loss: 0.0994 - accuracy: 0.9715 - val_loss: 0.1172 - val_accuracy: 0.9657\n",
      "Epoch 5/5\n",
      "391/391 [==============================] - 1s 2ms/step - loss: 0.0793 - accuracy: 0.9769 - val_loss: 0.1046 - val_accuracy: 0.9672\n"
     ]
    },
    {
     "data": {
      "image/png": "[encoded data removed]",
      "text/plain": [
       "<Figure size 432x288 with 1 Axes>"
      ]
     },
     "metadata": {
      "needs_background": "light"
     },
     "output_type": "display_data"
    },
    {
     "data": {
      "image/png": "[encoded data removed]",
      "text/plain": [
       "<Figure size 432x288 with 1 Axes>"
      ]
     },
     "metadata": {
      "needs_background": "light"
     },
     "output_type": "display_data"
    }
   ],
   "source": [
    "training = model.fit(x_train, y_train,\n",
    "          validation_data=(x_val, y_val),\n",
    "          batch_size=128,\n",
    "          epochs=5)\n",
    "\n",
    "plt.plot(training.history['accuracy'])\n",
    "plt.plot(training.history['val_accuracy'])\n",
    "plt.title('model accuracy')\n",
    "plt.ylabel('accuracy')\n",
    "plt.xlabel('epoch')\n",
    "plt.legend(['train', 'test'], loc='upper left')\n",
    "plt.show()\n",
    "#loss\n",
    "plt.plot(training.history['loss'])\n",
    "plt.plot(training.history['val_loss'])\n",
    "plt.title('model loss')\n",
    "plt.ylabel('loss')\n",
    "plt.xlabel('epoch')\n",
    "plt.legend(['train', 'test'], loc='upper left')\n",
    "plt.show()"
   ]
  },
  {
   "cell_type": "markdown",
   "metadata": {},
   "source": [
    "# Evaluate"
   ]
  },
  {
   "cell_type": "code",
   "execution_count": 6,
   "metadata": {},
   "outputs": [
    {
     "name": "stdout",
     "output_type": "stream",
     "text": [
      "313/313 [==============================] - 0s 990us/step - loss: 0.0971 - accuracy: 0.9698\n"
     ]
    }
   ],
   "source": [
    "results = model.evaluate(x_test, y_test)"
   ]
  },
  {
   "cell_type": "markdown",
   "metadata": {},
   "source": [
    "# Save the model"
   ]
  },
  {
   "cell_type": "code",
   "execution_count": 7,
   "metadata": {},
   "outputs": [
    {
     "name": "stdout",
     "output_type": "stream",
     "text": [
      "WARNING:tensorflow:From c:\\users\\naolu\\documents\\github\\tensorflow_samples\\.venv\\lib\\site-packages\\tensorflow\\python\\training\\tracking\\tracking.py:111: Model.state_updates (from tensorflow.python.keras.engine.training) is deprecated and will be removed in a future version.\n",
      "Instructions for updating:\n",
      "This property should not be used in TensorFlow 2.0, as updates are applied automatically.\n",
      "WARNING:tensorflow:From c:\\users\\naolu\\documents\\github\\tensorflow_samples\\.venv\\lib\\site-packages\\tensorflow\\python\\training\\tracking\\tracking.py:111: Layer.updates (from tensorflow.python.keras.engine.base_layer) is deprecated and will be removed in a future version.\n",
      "Instructions for updating:\n",
      "This property should not be used in TensorFlow 2.0, as updates are applied automatically.\n",
      "INFO:tensorflow:Assets written to: models\\mnist_pb\\assets\n",
      "Tensor(\"dense_input:0\", shape=(None, 784), dtype=float32)\n",
      "Tensor(\"y/Softmax:0\", shape=(None, 10), dtype=float32)\n"
     ]
    }
   ],
   "source": [
    "model.save('models\\\\mnist.h5')\n",
    "model.save('models\\\\mnist_pb', save_format=\"tf\")\n",
    "\n",
    "print(model.input)\n",
    "print(model.output)"
   ]
  },
  {
   "cell_type": "markdown",
   "metadata": {},
   "source": [
    "# Predict"
   ]
  },
  {
   "cell_type": "code",
   "execution_count": 8,
   "metadata": {},
   "outputs": [
    {
     "data": {
      "image/png": "[encoded data removed]",
      "text/plain": [
       "<Figure size 720x288 with 10 Axes>"
      ]
     },
     "metadata": {
      "needs_background": "light"
     },
     "output_type": "display_data"
    }
   ],
   "source": [
    "%matplotlib inline\n",
    "\n",
    "import numpy as np\n",
    "import matplotlib.pyplot as plt\n",
    "\n",
    "import tensorflow as tf\n",
    "from tensorflow.keras import models\n",
    "from tensorflow.keras.datasets import mnist\n",
    "\n",
    "(x_train, y_train), (x_test, y_test) = mnist.load_data()\n",
    "\n",
    "x_train = x_train.reshape((len(x_train), 28*28)).astype('float32')\n",
    "x_test = x_test.reshape((len(x_test), 28*28)).astype('float32')\n",
    "x_train = x_train / 255\n",
    "x_test = x_test / 255\n",
    "\n",
    "model = models.load_model('models\\\\mnist.h5')\n",
    "\n",
    "#If the model format is pb\n",
    "#model = models.load_model('models\\\\mnist_pb')\n",
    "\n",
    "plt.figure(figsize=(10, 4))\n",
    "num = 0\n",
    "\n",
    "while num < 2 * 5:\n",
    "    num += 1\n",
    "    plt.subplot(2, 5, num)\n",
    "    plt.imshow(x_test[num].reshape(28, 28), cmap=\"gray\")\n",
    "    plt.axis('off')\n",
    "    \n",
    "    x = x_test[num]\n",
    "    x = x.reshape(1, len(x))\n",
    "    plt.title(np.argmax(model.predict(x)))"
   ]
  },
  {
   "cell_type": "code",
   "execution_count": null,
   "metadata": {},
   "outputs": [],
   "source": []
  }
 ],
 "metadata": {
  "kernelspec": {
   "display_name": "Python 3",
   "language": "python",
   "name": "python3"
  },
  "language_info": {
   "codemirror_mode": {
    "name": "ipython",
    "version": 3
   },
   "file_extension": ".py",
   "mimetype": "text/x-python",
   "name": "python",
   "nbconvert_exporter": "python",
   "pygments_lexer": "ipython3",
   "version": "3.7.9"
  }
 },
 "nbformat": 4,
 "nbformat_minor": 4
}
