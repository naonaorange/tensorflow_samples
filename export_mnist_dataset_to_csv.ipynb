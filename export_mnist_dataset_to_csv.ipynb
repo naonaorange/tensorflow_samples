{
 "cells": [
  {
   "cell_type": "code",
   "execution_count": 3,
   "metadata": {},
   "outputs": [
    {
     "data": {
      "image/png": "[encoded data removed]",
      "text/plain": [
       "<Figure size 720x288 with 10 Axes>"
      ]
     },
     "metadata": {
      "needs_background": "light"
     },
     "output_type": "display_data"
    }
   ],
   "source": [
    "%matplotlib inline\n",
    "\n",
    "import numpy as np\n",
    "import matplotlib.pyplot as plt\n",
    "\n",
    "import tensorflow as tf\n",
    "from tensorflow.keras.datasets import mnist\n",
    "\n",
    "(x_train, y_train), (x_test, y_test) = mnist.load_data()\n",
    "\n",
    "x_train = x_train.reshape((len(x_train), 28*28))\n",
    "x_test = x_test.reshape((len(x_test), 28*28))\n",
    "\n",
    "plt.figure(figsize=(10, 4))\n",
    "num = 0\n",
    "\n",
    "while num < 2 * 5:\n",
    "    plt.subplot(2, 5, num+1) #subplotの第3引数は1始まりのため+1\n",
    "    plt.imshow(x_test[num].reshape(28, 28), cmap=\"gray\")\n",
    "    plt.axis('off')\n",
    "    num += 1\n",
    "    \n",
    "#export mnist data to csv\n",
    "with open(\"data\\\\mnist_dataset.csv\", mode='w') as f:\n",
    "    for x in x_test[:10]:\n",
    "        count = 0\n",
    "        for i in x:\n",
    "            f.write(str(i))\n",
    "            if count < 28*28 -1:\n",
    "                #write ',' without the end of line\n",
    "                f.write(',')\n",
    "            count += 1\n",
    "        f.write('\\n')"
   ]
  },
  {
   "cell_type": "code",
   "execution_count": null,
   "metadata": {},
   "outputs": [],
   "source": []
  }
 ],
 "metadata": {
  "kernelspec": {
   "display_name": "Python 3",
   "language": "python",
   "name": "python3"
  },
  "language_info": {
   "codemirror_mode": {
    "name": "ipython",
    "version": 3
   },
   "file_extension": ".py",
   "mimetype": "text/x-python",
   "name": "python",
   "nbconvert_exporter": "python",
   "pygments_lexer": "ipython3",
   "version": "3.7.7"
  }
 },
 "nbformat": 4,
 "nbformat_minor": 4
}
