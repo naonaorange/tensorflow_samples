{
 "cells": [
  {
   "cell_type": "markdown",
   "metadata": {},
   "source": [
    "# Initial Setting"
   ]
  },
  {
   "cell_type": "code",
   "execution_count": 1,
   "metadata": {},
   "outputs": [
    {
     "name": "stdout",
     "output_type": "stream",
     "text": [
      "tensorflow version : 2.0.0\n"
     ]
    }
   ],
   "source": [
    "%matplotlib inline\n",
    "\n",
    "import numpy as np\n",
    "from pandas import DataFrame\n",
    "import matplotlib.pyplot as plt\n",
    "\n",
    "import tensorflow as tf\n",
    "from tensorflow.keras import layers, models, initializers\n",
    "from tensorflow.keras.datasets import mnist\n",
    "\n",
    "np.random.seed(20200426)\n",
    "tf.random.set_seed(20200426)\n",
    "\n",
    "print(\"tensorflow version : \" + tf.__version__)"
   ]
  },
  {
   "cell_type": "markdown",
   "metadata": {},
   "source": [
    "# Create input data and deep learning laye"
   ]
  },
  {
   "cell_type": "code",
   "execution_count": 2,
   "metadata": {},
   "outputs": [
    {
     "name": "stdout",
     "output_type": "stream",
     "text": [
      "Model: \"sequential\"\n",
      "_________________________________________________________________\n",
      "Layer (type)                 Output Shape              Param #   \n",
      "=================================================================\n",
      "reshape (Reshape)            (None, 28, 28, 1)         0         \n",
      "_________________________________________________________________\n",
      "conv_filter1 (Conv2D)        (None, 28, 28, 32)        832       \n",
      "_________________________________________________________________\n",
      "max_pooling1 (MaxPooling2D)  (None, 14, 14, 32)        0         \n",
      "_________________________________________________________________\n",
      "conv_filter2 (Conv2D)        (None, 14, 14, 32)        25632     \n",
      "_________________________________________________________________\n",
      "max_pooling2 (MaxPooling2D)  (None, 7, 7, 32)          0         \n",
      "_________________________________________________________________\n",
      "flatten (Flatten)            (None, 1568)              0         \n",
      "_________________________________________________________________\n",
      "hidden (Dense)               (None, 512)               803328    \n",
      "_________________________________________________________________\n",
      "dropout (Dropout)            (None, 512)               0         \n",
      "_________________________________________________________________\n",
      "softmax (Dense)              (None, 10)                5130      \n",
      "=================================================================\n",
      "Total params: 834,922\n",
      "Trainable params: 834,922\n",
      "Non-trainable params: 0\n",
      "_________________________________________________________________\n"
     ]
    }
   ],
   "source": [
    "(x_train, y_train), (x_test, y_test) = mnist.load_data()\n",
    "x_train = x_train.reshape((len(x_train), 784)).astype('float32') / 255\n",
    "x_test = x_test.reshape((len(x_test), 784)).astype('float32') / 255\n",
    "y_train = tf.keras.utils.to_categorical(y_train, 10)\n",
    "y_test = tf.keras.utils.to_categorical(y_test, 10)\n",
    "\n",
    "\n",
    "model = models.Sequential()\n",
    "model.add(layers.Reshape((28, 28, 1),\n",
    "                         input_shape=(28*28,),\n",
    "                         name='reshape'))\n",
    "model.add(layers.Conv2D(32, (5, 5),  padding='same',\n",
    "                        kernel_initializer=initializers.TruncatedNormal(),\n",
    "                        use_bias=True,\n",
    "                        activation='relu',\n",
    "                        name='conv_filter1'))\n",
    "model.add(layers.MaxPooling2D((2, 2), name='max_pooling1'))\n",
    "model.add(layers.Conv2D(32, (5, 5), padding='same',\n",
    "                        kernel_initializer=initializers.TruncatedNormal(),\n",
    "                        use_bias=True, activation='relu',\n",
    "                        name='conv_filter2'))\n",
    "model.add(layers.MaxPooling2D((2, 2), name='max_pooling2'))\n",
    "model.add(layers.Flatten(name='flatten'))\n",
    "model.add(layers.Dense(512, activation='relu',\n",
    "                       kernel_initializer=initializers.TruncatedNormal(),\n",
    "                       name='hidden'))\n",
    "model.add(layers.Dropout(rate=0.3, name='dropout'))\n",
    "model.add(layers.Dense(10, activation='softmax', name='softmax'))\n",
    "\n",
    "model.summary()"
   ]
  },
  {
   "cell_type": "markdown",
   "metadata": {},
   "source": [
    "# Trainning"
   ]
  },
  {
   "cell_type": "code",
   "execution_count": 3,
   "metadata": {},
   "outputs": [
    {
     "name": "stdout",
     "output_type": "stream",
     "text": [
      "Train on 60000 samples, validate on 10000 samples\n",
      "Epoch 1/10\n",
      "60000/60000 [==============================] - 51s 855us/sample - loss: 0.2334 - accuracy: 0.9290 - val_loss: 0.0486 - val_accuracy: 0.9839\n",
      "Epoch 2/10\n",
      "60000/60000 [==============================] - 50s 828us/sample - loss: 0.0570 - accuracy: 0.9823 - val_loss: 0.0351 - val_accuracy: 0.9883\n",
      "Epoch 3/10\n",
      "60000/60000 [==============================] - 50s 834us/sample - loss: 0.0398 - accuracy: 0.9879 - val_loss: 0.0321 - val_accuracy: 0.9896\n",
      "Epoch 4/10\n",
      "60000/60000 [==============================] - 50s 829us/sample - loss: 0.0320 - accuracy: 0.9901 - val_loss: 0.0228 - val_accuracy: 0.9917\n",
      "Epoch 5/10\n",
      "60000/60000 [==============================] - 50s 830us/sample - loss: 0.0240 - accuracy: 0.9924 - val_loss: 0.0219 - val_accuracy: 0.9926\n",
      "Epoch 6/10\n",
      "60000/60000 [==============================] - 50s 829us/sample - loss: 0.0200 - accuracy: 0.9938 - val_loss: 0.0234 - val_accuracy: 0.9920\n",
      "Epoch 7/10\n",
      "60000/60000 [==============================] - 50s 832us/sample - loss: 0.0164 - accuracy: 0.9952 - val_loss: 0.0228 - val_accuracy: 0.9917\n",
      "Epoch 8/10\n",
      "60000/60000 [==============================] - 52s 867us/sample - loss: 0.0143 - accuracy: 0.9955 - val_loss: 0.0202 - val_accuracy: 0.9929\n",
      "Epoch 9/10\n",
      "60000/60000 [==============================] - 54s 897us/sample - loss: 0.0130 - accuracy: 0.9955 - val_loss: 0.0251 - val_accuracy: 0.9921\n",
      "Epoch 10/10\n",
      "60000/60000 [==============================] - 51s 845us/sample - loss: 0.0102 - accuracy: 0.9970 - val_loss: 0.0211 - val_accuracy: 0.9924\n"
     ]
    },
    {
     "data": {
      "image/png": "[encoded data removed]",
      "text/plain": [
       "<Figure size 432x288 with 1 Axes>"
      ]
     },
     "metadata": {
      "needs_background": "light"
     },
     "output_type": "display_data"
    },
    {
     "data": {
      "image/png": "[encoded data removed]",
      "text/plain": [
       "<Figure size 432x288 with 1 Axes>"
      ]
     },
     "metadata": {
      "needs_background": "light"
     },
     "output_type": "display_data"
    }
   ],
   "source": [
    "model.compile(optimizer='adam',\n",
    "              loss='categorical_crossentropy',\n",
    "              metrics=['accuracy'])\n",
    "\n",
    "training = model.fit(x_train, y_train,\n",
    "                    validation_data=(x_test, y_test),\n",
    "                    batch_size=256, epochs=10)\n",
    "\n",
    "#正答率\n",
    "plt.plot(training.history['accuracy'])\n",
    "plt.plot(training.history['val_accuracy'])\n",
    "plt.title('model accuracy')\n",
    "plt.ylabel('accuracy')\n",
    "plt.xlabel('epoch')\n",
    "plt.legend(['train', 'test'], loc='upper left')\n",
    "plt.show()\n",
    "#loss\n",
    "plt.plot(training.history['loss'])\n",
    "plt.plot(training.history['val_loss'])\n",
    "plt.title('model loss')\n",
    "plt.ylabel('loss')\n",
    "plt.xlabel('epoch')\n",
    "plt.legend(['train', 'test'], loc='upper left')\n",
    "plt.show()"
   ]
  },
  {
   "cell_type": "markdown",
   "metadata": {},
   "source": [
    "# Save the model"
   ]
  },
  {
   "cell_type": "code",
   "execution_count": 4,
   "metadata": {},
   "outputs": [
    {
     "name": "stdout",
     "output_type": "stream",
     "text": [
      "Tensor(\"reshape_input:0\", shape=(None, 784), dtype=float32)\n",
      "Tensor(\"softmax/Identity:0\", shape=(None, 10), dtype=float32)\n"
     ]
    }
   ],
   "source": [
    "model.save('models\\\\cnn_mnist.h5')\n",
    "\n",
    "print(model.input)\n",
    "print(model.output)"
   ]
  },
  {
   "cell_type": "code",
   "execution_count": 5,
   "metadata": {},
   "outputs": [
    {
     "data": {
      "image/png": "[encoded data removed]",
      "text/plain": [
       "<Figure size 720x288 with 10 Axes>"
      ]
     },
     "metadata": {
      "needs_background": "light"
     },
     "output_type": "display_data"
    }
   ],
   "source": [
    "%matplotlib inline\n",
    "\n",
    "import numpy as np\n",
    "import matplotlib.pyplot as plt\n",
    "\n",
    "import tensorflow as tf\n",
    "from tensorflow.keras import models\n",
    "from tensorflow.keras.datasets import mnist\n",
    "\n",
    "(x_train, y_train), (x_test, y_test) = mnist.load_data()\n",
    "\n",
    "x_train = x_train.reshape((len(x_train), 28*28)).astype('float32')\n",
    "x_test = x_test.reshape((len(x_test), 28*28)).astype('float32')\n",
    "x_train = x_train / 255\n",
    "x_test = x_test / 255\n",
    "\n",
    "model = models.load_model('models\\\\cnn_mnist.h5')\n",
    "\n",
    "plt.figure(figsize=(10, 4))\n",
    "num = 0\n",
    "\n",
    "while num < 2 * 5:\n",
    "    num += 1\n",
    "    plt.subplot(2, 5, num)\n",
    "    plt.imshow(x_test[num].reshape(28, 28), cmap=\"gray\")\n",
    "    plt.axis('off')\n",
    "    \n",
    "    x = x_test[num]\n",
    "    x = x.reshape(1, len(x))\n",
    "    plt.title(np.argmax(model.predict(x)))"
   ]
  },
  {
   "cell_type": "code",
   "execution_count": null,
   "metadata": {},
   "outputs": [],
   "source": []
  }
 ],
 "metadata": {
  "kernelspec": {
   "display_name": "Python 3",
   "language": "python",
   "name": "python3"
  },
  "language_info": {
   "codemirror_mode": {
    "name": "ipython",
    "version": 3
   },
   "file_extension": ".py",
   "mimetype": "text/x-python",
   "name": "python",
   "nbconvert_exporter": "python",
   "pygments_lexer": "ipython3",
   "version": "3.7.7"
  }
 },
 "nbformat": 4,
 "nbformat_minor": 4
}
